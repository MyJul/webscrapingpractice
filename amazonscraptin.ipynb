{
 "cells": [
  {
   "cell_type": "code",
   "execution_count": 2,
   "id": "3987521a",
   "metadata": {},
   "outputs": [],
   "source": [
    "#import libraries BeatifulSoup, requests, smtplib, time, and datetime\n",
    "from bs4 import BeautifulSoup\n",
    "import requests\n",
    "import smtplib\n",
    "import time\n",
    "from datetime import datetime\n"
   ]
  },
  {
   "cell_type": "code",
   "execution_count": null,
   "id": "8654f7b7",
   "metadata": {},
   "outputs": [],
   "source": [
    "#Connect to the website\n",
    "\n",
    "url = 'https://www.amazon.com/Funny-Data-Systems-Business-Analyst/dp/B07FNW9FGJ/ref=sr_1_3?dchild=1&keywords=data%2Banalyst%2Btshirt&qid=1626655184&sr=8-3&customId=B0752XJYNL&th=1'\n",
    "#to get headers visit https://httpbin.org/get\n",
    "\n",
    "headers = {'User-Agent': 'Mozilla/5.0 (Windows NT 10.0; Win64; x64) AppleWebKit/537.36 (KHTML, like Gecko) Chrome/91.0.4472.124 Safari/537.36', 'Accept-Encoding': 'gzip, deflate, br, zstd', 'Accept-Language': 'en-US,en;q=0.9', 'Accept': 'text/html,application/xhtml+xml,application/xml;q=0.9,image/avif,image/webp,image/apng,*/*;q=0.8,application/signed-exchange;v=b3;q=0.7', 'Connection': 'close', 'Upgrade-Insecure-Requests': '1'}\n",
    "\n",
    "#headers = {'User-Agent': 'Mozilla/5.0 (Windows NT 10.0; Win64; x64) AppleWebKit/537.36 (KHTML, like Gecko) Chrome/136.0.0.0 Safari/537.36', 'Accept-Encoding': 'gzip, deflate, br, zstd', 'Accept-Language': 'en-US,en;q=0.9', 'Accept': 'text/html,application/xhtml+xml,application/xml;q=0.9,image/avif,image/webp,image/apng,*/*;q=0.8,application/signed-exchange;v=b3;q=0.7', 'Connection': 'close', 'Upgrade-Insecure-Requests': '1'}\n",
    "\n",
    "page = requests.get(url, headers=headers)\n",
    "\n",
    "Soup1 = BeautifulSoup(page.content, 'html.parser')\n",
    "\n",
    "Soup2 = BeautifulSoup(Soup1.prettify(), 'html.parser')"
   ]
  },
  {
   "cell_type": "code",
   "execution_count": 17,
   "id": "8543ee31",
   "metadata": {},
   "outputs": [
    {
     "name": "stdout",
     "output_type": "stream",
     "text": [
      "Product title not found.\n"
     ]
    }
   ],
   "source": [
    "#print(Soup1)\n",
    "#print(Soup2)\n",
    "\n",
    "# Use find() instead of find_all() to get a single element, then call get_text()\n",
    "title = Soup2.find(id='productTitle')\n",
    "if title:\n",
    "\tprint(title.get_text(strip=True))\n",
    "else:\n",
    "\tprint(\"Product title not found.\")"
   ]
  },
  {
   "cell_type": "code",
   "execution_count": 20,
   "id": "d2744b44",
   "metadata": {},
   "outputs": [
    {
     "name": "stdout",
     "output_type": "stream",
     "text": [
      "Title not found\n"
     ]
    }
   ],
   "source": [
    "# Find the title element using the id 'productTitle'\n",
    "title_element = Soup2.find('span', {'id': 'productTitle'})\n",
    "\n",
    "# Check if the title element was found before accessing its text\n",
    "if title_element is not None:\n",
    "    title = title_element.text.strip()  # Get the text if the element exists\n",
    "else:\n",
    "    title = \"Title not found\"  # Handle the case where the title is not found\n",
    "\n",
    "print(title)  # Print the title or the message"
   ]
  },
  {
   "cell_type": "markdown",
   "id": "4107cc75",
   "metadata": {},
   "source": [
    "After further research, I will have to find another way to complete this project as Amazon has updated their site to not allow this type of scraping.  Note - at times you can still run this script, but mostly it is blocked.  I will see if I can try this on another site."
   ]
  }
 ],
 "metadata": {
  "kernelspec": {
   "display_name": ".venv",
   "language": "python",
   "name": "python3"
  },
  "language_info": {
   "codemirror_mode": {
    "name": "ipython",
    "version": 3
   },
   "file_extension": ".py",
   "mimetype": "text/x-python",
   "name": "python",
   "nbconvert_exporter": "python",
   "pygments_lexer": "ipython3",
   "version": "3.12.6"
  }
 },
 "nbformat": 4,
 "nbformat_minor": 5
}
